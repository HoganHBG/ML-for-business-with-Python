{
  "nbformat": 4,
  "nbformat_minor": 0,
  "metadata": {
    "colab": {
      "name": "GDP Energy Final project.ipynb",
      "provenance": [],
      "authorship_tag": "ABX9TyPR7m15lyVc9lI4GtKg8JVV",
      "include_colab_link": true
    },
    "kernelspec": {
      "name": "python3",
      "display_name": "Python 3"
    }
  },
  "cells": [
    {
      "cell_type": "markdown",
      "metadata": {
        "id": "view-in-github",
        "colab_type": "text"
      },
      "source": [
        "<a href=\"https://colab.research.google.com/github/HoganHBG/ML-for-business-with-Python/blob/master/GDP_Energy_Final_project.ipynb\" target=\"_parent\"><img src=\"https://colab.research.google.com/assets/colab-badge.svg\" alt=\"Open In Colab\"/></a>"
      ]
    },
    {
      "cell_type": "code",
      "metadata": {
        "id": "5Sx_-hJ667hR",
        "colab_type": "code",
        "colab": {}
      },
      "source": [
        "from sklearn.datasets import load_boston\n",
        "import pandas as pd\n",
        "import numpy as np\n",
        "import statsmodels.api as sm\n",
        "import matplotlib.pyplot as plt\n",
        "from statsmodels.sandbox.regression.predstd import wls_prediction_std\n",
        "from vega_datasets import data\n",
        "import seaborn as sns"
      ],
      "execution_count": null,
      "outputs": []
    },
    {
      "cell_type": "code",
      "metadata": {
        "id": "QSoo-OIj697I",
        "colab_type": "code",
        "colab": {}
      },
      "source": [
        "gdp_energy = pd.read_csv('https://raw.githubusercontent.com/HoganHBG/ML-for-business-with-Python/master/Final%20project%20fuels%20consumption%20v%20GDP%20Upload.csv')"
      ],
      "execution_count": null,
      "outputs": []
    },
    {
      "cell_type": "code",
      "metadata": {
        "id": "ksAr3MBc7bJE",
        "colab_type": "code",
        "colab": {
          "base_uri": "https://localhost:8080/",
          "height": 229
        },
        "outputId": "72dc1533-115b-4367-9ef0-bcc7013ce4ec"
      },
      "source": [
        "gdp_energy.head()"
      ],
      "execution_count": null,
      "outputs": [
        {
          "output_type": "execute_result",
          "data": {
            "text/html": [
              "<div>\n",
              "<style scoped>\n",
              "    .dataframe tbody tr th:only-of-type {\n",
              "        vertical-align: middle;\n",
              "    }\n",
              "\n",
              "    .dataframe tbody tr th {\n",
              "        vertical-align: top;\n",
              "    }\n",
              "\n",
              "    .dataframe thead th {\n",
              "        text-align: right;\n",
              "    }\n",
              "</style>\n",
              "<table border=\"1\" class=\"dataframe\">\n",
              "  <thead>\n",
              "    <tr style=\"text-align: right;\">\n",
              "      <th></th>\n",
              "      <th>Quarter</th>\n",
              "      <th>GDP US$ Billions</th>\n",
              "      <th>U.S. Aviation Gasoline - MGallons</th>\n",
              "      <th>Gasoline  - MGallons</th>\n",
              "      <th>Diesel  - MGallons</th>\n",
              "      <th>NatGAs by Quarter -MMCF</th>\n",
              "      <th>Electricity BWH</th>\n",
              "      <th>U.S. Aviation Gasoline - BTU</th>\n",
              "      <th>Gasoline By Quarter - BTU</th>\n",
              "      <th>Diesel By Quarter - BTU</th>\n",
              "      <th>NatGAs by Quarter - BTU</th>\n",
              "      <th>Electricity - BTU</th>\n",
              "    </tr>\n",
              "  </thead>\n",
              "  <tbody>\n",
              "    <tr>\n",
              "      <th>0</th>\n",
              "      <td>Q1 2020</td>\n",
              "      <td>21561.139</td>\n",
              "      <td>34265.8</td>\n",
              "      <td>30684840.5</td>\n",
              "      <td>15588489.4</td>\n",
              "      <td>5603537</td>\n",
              "      <td>884810.483</td>\n",
              "      <td>4228.39972</td>\n",
              "      <td>3804920.222</td>\n",
              "      <td>2176153.120</td>\n",
              "      <td>5883713.85</td>\n",
              "      <td>3018973.368</td>\n",
              "    </tr>\n",
              "    <tr>\n",
              "      <th>1</th>\n",
              "      <td>Q4 2019</td>\n",
              "      <td>21747.394</td>\n",
              "      <td>35111.1</td>\n",
              "      <td>33717750.3</td>\n",
              "      <td>15912627.0</td>\n",
              "      <td>4819769</td>\n",
              "      <td>889329.889</td>\n",
              "      <td>4332.70974</td>\n",
              "      <td>4181001.037</td>\n",
              "      <td>2221402.729</td>\n",
              "      <td>5060757.45</td>\n",
              "      <td>3034393.581</td>\n",
              "    </tr>\n",
              "    <tr>\n",
              "      <th>2</th>\n",
              "      <td>Q3 2019</td>\n",
              "      <td>21540.325</td>\n",
              "      <td>45672.0</td>\n",
              "      <td>34753940.1</td>\n",
              "      <td>15358719.9</td>\n",
              "      <td>2729751</td>\n",
              "      <td>1071813.551</td>\n",
              "      <td>5635.92480</td>\n",
              "      <td>4309488.572</td>\n",
              "      <td>2144077.298</td>\n",
              "      <td>2866238.55</td>\n",
              "      <td>3657027.836</td>\n",
              "    </tr>\n",
              "    <tr>\n",
              "      <th>3</th>\n",
              "      <td>Q2 2019</td>\n",
              "      <td>21329.877</td>\n",
              "      <td>45642.3</td>\n",
              "      <td>34079190.2</td>\n",
              "      <td>15151623.6</td>\n",
              "      <td>3237185</td>\n",
              "      <td>876905.151</td>\n",
              "      <td>5632.25982</td>\n",
              "      <td>4225819.585</td>\n",
              "      <td>2115166.655</td>\n",
              "      <td>3399044.25</td>\n",
              "      <td>2992000.375</td>\n",
              "    </tr>\n",
              "    <tr>\n",
              "      <th>4</th>\n",
              "      <td>Q1 2019</td>\n",
              "      <td>21115.309</td>\n",
              "      <td>32690.1</td>\n",
              "      <td>31515816.7</td>\n",
              "      <td>15613161.6</td>\n",
              "      <td>6173048</td>\n",
              "      <td>911489.129</td>\n",
              "      <td>4033.95834</td>\n",
              "      <td>3907961.271</td>\n",
              "      <td>2179597.359</td>\n",
              "      <td>6481700.40</td>\n",
              "      <td>3110000.908</td>\n",
              "    </tr>\n",
              "  </tbody>\n",
              "</table>\n",
              "</div>"
            ],
            "text/plain": [
              "   Quarter  GDP US$ Billions  ...  NatGAs by Quarter - BTU   Electricity - BTU \n",
              "0  Q1 2020         21561.139  ...               5883713.85          3018973.368\n",
              "1  Q4 2019         21747.394  ...               5060757.45          3034393.581\n",
              "2  Q3 2019         21540.325  ...               2866238.55          3657027.836\n",
              "3  Q2 2019         21329.877  ...               3399044.25          2992000.375\n",
              "4  Q1 2019         21115.309  ...               6481700.40          3110000.908\n",
              "\n",
              "[5 rows x 12 columns]"
            ]
          },
          "metadata": {
            "tags": []
          },
          "execution_count": 56
        }
      ]
    },
    {
      "cell_type": "code",
      "metadata": {
        "id": "g08LgjVs7tqC",
        "colab_type": "code",
        "colab": {
          "base_uri": "https://localhost:8080/",
          "height": 34
        },
        "outputId": "2e202abc-dbbf-45d8-a3eb-63780cdc999d"
      },
      "source": [
        "gdp_energy.shape"
      ],
      "execution_count": null,
      "outputs": [
        {
          "output_type": "execute_result",
          "data": {
            "text/plain": [
              "(77, 12)"
            ]
          },
          "metadata": {
            "tags": []
          },
          "execution_count": 57
        }
      ]
    },
    {
      "cell_type": "code",
      "metadata": {
        "id": "umXIvPxU8MMc",
        "colab_type": "code",
        "colab": {
          "base_uri": "https://localhost:8080/",
          "height": 218
        },
        "outputId": "9e130b77-f9fb-4bcb-bb37-65a4f39b4bf7"
      },
      "source": [
        "y = gdp_energy['GDP US$ Billions']\n",
        "y"
      ],
      "execution_count": null,
      "outputs": [
        {
          "output_type": "execute_result",
          "data": {
            "text/plain": [
              "0     21561.139\n",
              "1     21747.394\n",
              "2     21540.325\n",
              "3     21329.877\n",
              "4     21115.309\n",
              "        ...    \n",
              "72    10788.952\n",
              "73    10660.294\n",
              "74    10596.294\n",
              "75    10597.822\n",
              "76    10472.879\n",
              "Name: GDP US$ Billions, Length: 77, dtype: float64"
            ]
          },
          "metadata": {
            "tags": []
          },
          "execution_count": 59
        }
      ]
    },
    {
      "cell_type": "code",
      "metadata": {
        "id": "b9PTEQ738lXB",
        "colab_type": "code",
        "colab": {
          "base_uri": "https://localhost:8080/",
          "height": 195
        },
        "outputId": "6e6c2df5-5432-49b1-9fdf-b7bf967aecba"
      },
      "source": [
        "X = gdp_energy[['U.S. Aviation Gasoline - MGallons', 'Gasoline  - MGallons','Diesel  - MGallons','NatGAs by Quarter -MMCF',' Electricity BWH ']]\n",
        "X.head()"
      ],
      "execution_count": null,
      "outputs": [
        {
          "output_type": "execute_result",
          "data": {
            "text/html": [
              "<div>\n",
              "<style scoped>\n",
              "    .dataframe tbody tr th:only-of-type {\n",
              "        vertical-align: middle;\n",
              "    }\n",
              "\n",
              "    .dataframe tbody tr th {\n",
              "        vertical-align: top;\n",
              "    }\n",
              "\n",
              "    .dataframe thead th {\n",
              "        text-align: right;\n",
              "    }\n",
              "</style>\n",
              "<table border=\"1\" class=\"dataframe\">\n",
              "  <thead>\n",
              "    <tr style=\"text-align: right;\">\n",
              "      <th></th>\n",
              "      <th>U.S. Aviation Gasoline - MGallons</th>\n",
              "      <th>Gasoline  - MGallons</th>\n",
              "      <th>Diesel  - MGallons</th>\n",
              "      <th>NatGAs by Quarter -MMCF</th>\n",
              "      <th>Electricity BWH</th>\n",
              "    </tr>\n",
              "  </thead>\n",
              "  <tbody>\n",
              "    <tr>\n",
              "      <th>0</th>\n",
              "      <td>34265.8</td>\n",
              "      <td>30684840.5</td>\n",
              "      <td>15588489.4</td>\n",
              "      <td>5603537</td>\n",
              "      <td>884810.483</td>\n",
              "    </tr>\n",
              "    <tr>\n",
              "      <th>1</th>\n",
              "      <td>35111.1</td>\n",
              "      <td>33717750.3</td>\n",
              "      <td>15912627.0</td>\n",
              "      <td>4819769</td>\n",
              "      <td>889329.889</td>\n",
              "    </tr>\n",
              "    <tr>\n",
              "      <th>2</th>\n",
              "      <td>45672.0</td>\n",
              "      <td>34753940.1</td>\n",
              "      <td>15358719.9</td>\n",
              "      <td>2729751</td>\n",
              "      <td>1071813.551</td>\n",
              "    </tr>\n",
              "    <tr>\n",
              "      <th>3</th>\n",
              "      <td>45642.3</td>\n",
              "      <td>34079190.2</td>\n",
              "      <td>15151623.6</td>\n",
              "      <td>3237185</td>\n",
              "      <td>876905.151</td>\n",
              "    </tr>\n",
              "    <tr>\n",
              "      <th>4</th>\n",
              "      <td>32690.1</td>\n",
              "      <td>31515816.7</td>\n",
              "      <td>15613161.6</td>\n",
              "      <td>6173048</td>\n",
              "      <td>911489.129</td>\n",
              "    </tr>\n",
              "  </tbody>\n",
              "</table>\n",
              "</div>"
            ],
            "text/plain": [
              "   U.S. Aviation Gasoline - MGallons  ...   Electricity BWH \n",
              "0                            34265.8  ...         884810.483\n",
              "1                            35111.1  ...         889329.889\n",
              "2                            45672.0  ...        1071813.551\n",
              "3                            45642.3  ...         876905.151\n",
              "4                            32690.1  ...         911489.129\n",
              "\n",
              "[5 rows x 5 columns]"
            ]
          },
          "metadata": {
            "tags": []
          },
          "execution_count": 67
        }
      ]
    },
    {
      "cell_type": "code",
      "metadata": {
        "id": "s2GlGCy89JmZ",
        "colab_type": "code",
        "colab": {
          "base_uri": "https://localhost:8080/",
          "height": 195
        },
        "outputId": "697c83d2-ad4b-4659-b562-81b1a0b38787"
      },
      "source": [
        "X = sm.add_constant(X)\n",
        "X.head()"
      ],
      "execution_count": null,
      "outputs": [
        {
          "output_type": "execute_result",
          "data": {
            "text/html": [
              "<div>\n",
              "<style scoped>\n",
              "    .dataframe tbody tr th:only-of-type {\n",
              "        vertical-align: middle;\n",
              "    }\n",
              "\n",
              "    .dataframe tbody tr th {\n",
              "        vertical-align: top;\n",
              "    }\n",
              "\n",
              "    .dataframe thead th {\n",
              "        text-align: right;\n",
              "    }\n",
              "</style>\n",
              "<table border=\"1\" class=\"dataframe\">\n",
              "  <thead>\n",
              "    <tr style=\"text-align: right;\">\n",
              "      <th></th>\n",
              "      <th>const</th>\n",
              "      <th>U.S. Aviation Gasoline - MGallons</th>\n",
              "      <th>Gasoline  - MGallons</th>\n",
              "      <th>Diesel  - MGallons</th>\n",
              "      <th>NatGAs by Quarter -MMCF</th>\n",
              "      <th>Electricity BWH</th>\n",
              "    </tr>\n",
              "  </thead>\n",
              "  <tbody>\n",
              "    <tr>\n",
              "      <th>0</th>\n",
              "      <td>1.0</td>\n",
              "      <td>34265.8</td>\n",
              "      <td>30684840.5</td>\n",
              "      <td>15588489.4</td>\n",
              "      <td>5603537</td>\n",
              "      <td>884810.483</td>\n",
              "    </tr>\n",
              "    <tr>\n",
              "      <th>1</th>\n",
              "      <td>1.0</td>\n",
              "      <td>35111.1</td>\n",
              "      <td>33717750.3</td>\n",
              "      <td>15912627.0</td>\n",
              "      <td>4819769</td>\n",
              "      <td>889329.889</td>\n",
              "    </tr>\n",
              "    <tr>\n",
              "      <th>2</th>\n",
              "      <td>1.0</td>\n",
              "      <td>45672.0</td>\n",
              "      <td>34753940.1</td>\n",
              "      <td>15358719.9</td>\n",
              "      <td>2729751</td>\n",
              "      <td>1071813.551</td>\n",
              "    </tr>\n",
              "    <tr>\n",
              "      <th>3</th>\n",
              "      <td>1.0</td>\n",
              "      <td>45642.3</td>\n",
              "      <td>34079190.2</td>\n",
              "      <td>15151623.6</td>\n",
              "      <td>3237185</td>\n",
              "      <td>876905.151</td>\n",
              "    </tr>\n",
              "    <tr>\n",
              "      <th>4</th>\n",
              "      <td>1.0</td>\n",
              "      <td>32690.1</td>\n",
              "      <td>31515816.7</td>\n",
              "      <td>15613161.6</td>\n",
              "      <td>6173048</td>\n",
              "      <td>911489.129</td>\n",
              "    </tr>\n",
              "  </tbody>\n",
              "</table>\n",
              "</div>"
            ],
            "text/plain": [
              "   const  ...   Electricity BWH \n",
              "0    1.0  ...         884810.483\n",
              "1    1.0  ...         889329.889\n",
              "2    1.0  ...        1071813.551\n",
              "3    1.0  ...         876905.151\n",
              "4    1.0  ...         911489.129\n",
              "\n",
              "[5 rows x 6 columns]"
            ]
          },
          "metadata": {
            "tags": []
          },
          "execution_count": 66
        }
      ]
    },
    {
      "cell_type": "code",
      "metadata": {
        "id": "xW4DNGPl9-hR",
        "colab_type": "code",
        "colab": {
          "base_uri": "https://localhost:8080/",
          "height": 521
        },
        "outputId": "6e908183-df21-4ac1-b664-52b179708847"
      },
      "source": [
        "model = sm.OLS(y, X)\n",
        "results = model.fit()\n",
        "print(results.summary())"
      ],
      "execution_count": null,
      "outputs": [
        {
          "output_type": "stream",
          "text": [
            "                                 OLS Regression Results                                \n",
            "=======================================================================================\n",
            "Dep. Variable:       GDP US$ Billions   R-squared (uncentered):                   0.986\n",
            "Model:                            OLS   Adj. R-squared (uncentered):              0.985\n",
            "Method:                 Least Squares   F-statistic:                              992.8\n",
            "Date:                Wed, 12 Aug 2020   Prob (F-statistic):                    6.51e-65\n",
            "Time:                        00:43:27   Log-Likelihood:                         -690.82\n",
            "No. Observations:                  77   AIC:                                      1392.\n",
            "Df Residuals:                      72   BIC:                                      1403.\n",
            "Df Model:                           5                                                  \n",
            "Covariance Type:            nonrobust                                                  \n",
            "=====================================================================================================\n",
            "                                        coef    std err          t      P>|t|      [0.025      0.975]\n",
            "-----------------------------------------------------------------------------------------------------\n",
            "U.S. Aviation Gasoline - MGallons    -0.1277      0.024     -5.294      0.000      -0.176      -0.080\n",
            "Gasoline  - MGallons                 -0.0004      0.000     -2.395      0.019      -0.001   -7.03e-05\n",
            "Diesel  - MGallons                    0.0020      0.000      4.847      0.000       0.001       0.003\n",
            "NatGAs by Quarter -MMCF              -0.0011      0.000     -4.030      0.000      -0.002      -0.001\n",
            " Electricity BWH                      0.0114      0.003      3.471      0.001       0.005       0.018\n",
            "==============================================================================\n",
            "Omnibus:                        1.010   Durbin-Watson:                   0.675\n",
            "Prob(Omnibus):                  0.604   Jarque-Bera (JB):                0.940\n",
            "Skew:                          -0.050   Prob(JB):                        0.625\n",
            "Kurtosis:                       2.468   Cond. No.                     3.93e+03\n",
            "==============================================================================\n",
            "\n",
            "Warnings:\n",
            "[1] Standard Errors assume that the covariance matrix of the errors is correctly specified.\n",
            "[2] The condition number is large, 3.93e+03. This might indicate that there are\n",
            "strong multicollinearity or other numerical problems.\n"
          ],
          "name": "stdout"
        }
      ]
    },
    {
      "cell_type": "code",
      "metadata": {
        "id": "Bri-xeG5-nXQ",
        "colab_type": "code",
        "colab": {
          "base_uri": "https://localhost:8080/",
          "height": 195
        },
        "outputId": "0085689d-b506-47a9-ab41-95914109f468"
      },
      "source": [
        "X = gdp_energy[['U.S. Aviation Gasoline - BTU','Gasoline By Quarter - BTU','Diesel By Quarter - BTU', 'NatGAs by Quarter - BTU',' Electricity - BTU ']]\n",
        "X.head()"
      ],
      "execution_count": null,
      "outputs": [
        {
          "output_type": "execute_result",
          "data": {
            "text/html": [
              "<div>\n",
              "<style scoped>\n",
              "    .dataframe tbody tr th:only-of-type {\n",
              "        vertical-align: middle;\n",
              "    }\n",
              "\n",
              "    .dataframe tbody tr th {\n",
              "        vertical-align: top;\n",
              "    }\n",
              "\n",
              "    .dataframe thead th {\n",
              "        text-align: right;\n",
              "    }\n",
              "</style>\n",
              "<table border=\"1\" class=\"dataframe\">\n",
              "  <thead>\n",
              "    <tr style=\"text-align: right;\">\n",
              "      <th></th>\n",
              "      <th>U.S. Aviation Gasoline - BTU</th>\n",
              "      <th>Gasoline By Quarter - BTU</th>\n",
              "      <th>Diesel By Quarter - BTU</th>\n",
              "      <th>NatGAs by Quarter - BTU</th>\n",
              "      <th>Electricity - BTU</th>\n",
              "    </tr>\n",
              "  </thead>\n",
              "  <tbody>\n",
              "    <tr>\n",
              "      <th>0</th>\n",
              "      <td>4228.39972</td>\n",
              "      <td>3804920.222</td>\n",
              "      <td>2176153.120</td>\n",
              "      <td>5883713.85</td>\n",
              "      <td>3018973.368</td>\n",
              "    </tr>\n",
              "    <tr>\n",
              "      <th>1</th>\n",
              "      <td>4332.70974</td>\n",
              "      <td>4181001.037</td>\n",
              "      <td>2221402.729</td>\n",
              "      <td>5060757.45</td>\n",
              "      <td>3034393.581</td>\n",
              "    </tr>\n",
              "    <tr>\n",
              "      <th>2</th>\n",
              "      <td>5635.92480</td>\n",
              "      <td>4309488.572</td>\n",
              "      <td>2144077.298</td>\n",
              "      <td>2866238.55</td>\n",
              "      <td>3657027.836</td>\n",
              "    </tr>\n",
              "    <tr>\n",
              "      <th>3</th>\n",
              "      <td>5632.25982</td>\n",
              "      <td>4225819.585</td>\n",
              "      <td>2115166.655</td>\n",
              "      <td>3399044.25</td>\n",
              "      <td>2992000.375</td>\n",
              "    </tr>\n",
              "    <tr>\n",
              "      <th>4</th>\n",
              "      <td>4033.95834</td>\n",
              "      <td>3907961.271</td>\n",
              "      <td>2179597.359</td>\n",
              "      <td>6481700.40</td>\n",
              "      <td>3110000.908</td>\n",
              "    </tr>\n",
              "  </tbody>\n",
              "</table>\n",
              "</div>"
            ],
            "text/plain": [
              "   U.S. Aviation Gasoline - BTU  ...   Electricity - BTU \n",
              "0                    4228.39972  ...          3018973.368\n",
              "1                    4332.70974  ...          3034393.581\n",
              "2                    5635.92480  ...          3657027.836\n",
              "3                    5632.25982  ...          2992000.375\n",
              "4                    4033.95834  ...          3110000.908\n",
              "\n",
              "[5 rows x 5 columns]"
            ]
          },
          "metadata": {
            "tags": []
          },
          "execution_count": 95
        }
      ]
    },
    {
      "cell_type": "code",
      "metadata": {
        "id": "kJL1hj5RIk_F",
        "colab_type": "code",
        "colab": {
          "base_uri": "https://localhost:8080/",
          "height": 195
        },
        "outputId": "675f35fe-0531-45c8-ac7e-139adbe4ddd4"
      },
      "source": [
        "X = sm.add_constant(X)\n",
        "X.head()"
      ],
      "execution_count": null,
      "outputs": [
        {
          "output_type": "execute_result",
          "data": {
            "text/html": [
              "<div>\n",
              "<style scoped>\n",
              "    .dataframe tbody tr th:only-of-type {\n",
              "        vertical-align: middle;\n",
              "    }\n",
              "\n",
              "    .dataframe tbody tr th {\n",
              "        vertical-align: top;\n",
              "    }\n",
              "\n",
              "    .dataframe thead th {\n",
              "        text-align: right;\n",
              "    }\n",
              "</style>\n",
              "<table border=\"1\" class=\"dataframe\">\n",
              "  <thead>\n",
              "    <tr style=\"text-align: right;\">\n",
              "      <th></th>\n",
              "      <th>const</th>\n",
              "      <th>U.S. Aviation Gasoline - BTU</th>\n",
              "      <th>Gasoline By Quarter - BTU</th>\n",
              "      <th>Diesel By Quarter - BTU</th>\n",
              "      <th>NatGAs by Quarter - BTU</th>\n",
              "      <th>Electricity - BTU</th>\n",
              "    </tr>\n",
              "  </thead>\n",
              "  <tbody>\n",
              "    <tr>\n",
              "      <th>0</th>\n",
              "      <td>1.0</td>\n",
              "      <td>4228.39972</td>\n",
              "      <td>3804920.222</td>\n",
              "      <td>2176153.120</td>\n",
              "      <td>5883713.85</td>\n",
              "      <td>3018973.368</td>\n",
              "    </tr>\n",
              "    <tr>\n",
              "      <th>1</th>\n",
              "      <td>1.0</td>\n",
              "      <td>4332.70974</td>\n",
              "      <td>4181001.037</td>\n",
              "      <td>2221402.729</td>\n",
              "      <td>5060757.45</td>\n",
              "      <td>3034393.581</td>\n",
              "    </tr>\n",
              "    <tr>\n",
              "      <th>2</th>\n",
              "      <td>1.0</td>\n",
              "      <td>5635.92480</td>\n",
              "      <td>4309488.572</td>\n",
              "      <td>2144077.298</td>\n",
              "      <td>2866238.55</td>\n",
              "      <td>3657027.836</td>\n",
              "    </tr>\n",
              "    <tr>\n",
              "      <th>3</th>\n",
              "      <td>1.0</td>\n",
              "      <td>5632.25982</td>\n",
              "      <td>4225819.585</td>\n",
              "      <td>2115166.655</td>\n",
              "      <td>3399044.25</td>\n",
              "      <td>2992000.375</td>\n",
              "    </tr>\n",
              "    <tr>\n",
              "      <th>4</th>\n",
              "      <td>1.0</td>\n",
              "      <td>4033.95834</td>\n",
              "      <td>3907961.271</td>\n",
              "      <td>2179597.359</td>\n",
              "      <td>6481700.40</td>\n",
              "      <td>3110000.908</td>\n",
              "    </tr>\n",
              "  </tbody>\n",
              "</table>\n",
              "</div>"
            ],
            "text/plain": [
              "   const  ...   Electricity - BTU \n",
              "0    1.0  ...          3018973.368\n",
              "1    1.0  ...          3034393.581\n",
              "2    1.0  ...          3657027.836\n",
              "3    1.0  ...          2992000.375\n",
              "4    1.0  ...          3110000.908\n",
              "\n",
              "[5 rows x 6 columns]"
            ]
          },
          "metadata": {
            "tags": []
          },
          "execution_count": 96
        }
      ]
    },
    {
      "cell_type": "code",
      "metadata": {
        "id": "xEWOpb7HJkCR",
        "colab_type": "code",
        "colab": {
          "base_uri": "https://localhost:8080/",
          "height": 538
        },
        "outputId": "7d713e5c-256f-41cb-9ecf-249cb33fb945"
      },
      "source": [
        "model = sm.OLS(y, X)\n",
        "results = model.fit()\n",
        "print(results.summary())"
      ],
      "execution_count": null,
      "outputs": [
        {
          "output_type": "stream",
          "text": [
            "                            OLS Regression Results                            \n",
            "==============================================================================\n",
            "Dep. Variable:       GDP US$ Billions   R-squared:                       0.673\n",
            "Model:                            OLS   Adj. R-squared:                  0.650\n",
            "Method:                 Least Squares   F-statistic:                     29.29\n",
            "Date:                Wed, 12 Aug 2020   Prob (F-statistic):           5.24e-16\n",
            "Time:                        01:06:56   Log-Likelihood:                -687.35\n",
            "No. Observations:                  77   AIC:                             1387.\n",
            "Df Residuals:                      71   BIC:                             1401.\n",
            "Df Model:                           5                                         \n",
            "Covariance Type:            nonrobust                                         \n",
            "================================================================================================\n",
            "                                   coef    std err          t      P>|t|      [0.025      0.975]\n",
            "------------------------------------------------------------------------------------------------\n",
            "const                         2.404e+04   9286.178      2.589      0.012    5525.487    4.26e+04\n",
            "U.S. Aviation Gasoline - BTU    -1.1814      0.197     -6.011      0.000      -1.573      -0.790\n",
            "Gasoline By Quarter - BTU       -0.0075      0.002     -3.585      0.001      -0.012      -0.003\n",
            "Diesel By Quarter - BTU          0.0146      0.003      5.012      0.000       0.009       0.020\n",
            "NatGAs by Quarter - BTU         -0.0016      0.000     -4.784      0.000      -0.002      -0.001\n",
            " Electricity - BTU               0.0022      0.001      2.190      0.032       0.000       0.004\n",
            "==============================================================================\n",
            "Omnibus:                        1.076   Durbin-Watson:                   0.604\n",
            "Prob(Omnibus):                  0.584   Jarque-Bera (JB):                1.000\n",
            "Skew:                          -0.088   Prob(JB):                        0.606\n",
            "Kurtosis:                       2.470   Cond. No.                     2.96e+08\n",
            "==============================================================================\n",
            "\n",
            "Warnings:\n",
            "[1] Standard Errors assume that the covariance matrix of the errors is correctly specified.\n",
            "[2] The condition number is large, 2.96e+08. This might indicate that there are\n",
            "strong multicollinearity or other numerical problems.\n"
          ],
          "name": "stdout"
        }
      ]
    },
    {
      "cell_type": "code",
      "metadata": {
        "id": "4U7mQTPVJpwZ",
        "colab_type": "code",
        "colab": {}
      },
      "source": [
        ""
      ],
      "execution_count": null,
      "outputs": []
    }
  ]
}