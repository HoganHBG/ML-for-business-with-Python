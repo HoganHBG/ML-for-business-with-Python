{
  "nbformat": 4,
  "nbformat_minor": 0,
  "metadata": {
    "colab": {
      "name": "GDP Energy Final project.ipynb",
      "provenance": [],
      "authorship_tag": "ABX9TyMW1XmkkSObp5Z+V+CqLz8Y",
      "include_colab_link": true
    },
    "kernelspec": {
      "name": "python3",
      "display_name": "Python 3"
    }
  },
  "cells": [
    {
      "cell_type": "markdown",
      "metadata": {
        "id": "view-in-github",
        "colab_type": "text"
      },
      "source": [
        "<a href=\"https://colab.research.google.com/github/HoganHBG/ML-for-business-with-Python/blob/master/GDP_Energy_Final_project.ipynb\" target=\"_parent\"><img src=\"https://colab.research.google.com/assets/colab-badge.svg\" alt=\"Open In Colab\"/></a>"
      ]
    },
    {
      "cell_type": "code",
      "metadata": {
        "id": "5Sx_-hJ667hR",
        "colab_type": "code",
        "colab": {}
      },
      "source": [
        "from sklearn.datasets import load_boston\n",
        "import pandas as pd\n",
        "import numpy as np\n",
        "import statsmodels.api as sm\n",
        "import matplotlib.pyplot as plt\n",
        "from statsmodels.sandbox.regression.predstd import wls_prediction_std\n",
        "from vega_datasets import data\n",
        "import seaborn as sns"
      ],
      "execution_count": 26,
      "outputs": []
    },
    {
      "cell_type": "code",
      "metadata": {
        "id": "QSoo-OIj697I",
        "colab_type": "code",
        "colab": {}
      },
      "source": [
        "gdp_energy = pd.read_csv('https://raw.githubusercontent.com/HoganHBG/ML-for-business-with-Python/master/Final%20project%20fuels%20consumption%20v%20GDP%20Upload.csv')"
      ],
      "execution_count": 27,
      "outputs": []
    },
    {
      "cell_type": "code",
      "metadata": {
        "id": "ksAr3MBc7bJE",
        "colab_type": "code",
        "colab": {
          "base_uri": "https://localhost:8080/",
          "height": 282
        },
        "outputId": "f26dcdbb-d1f4-4708-b664-6565dff9cb4e"
      },
      "source": [
        "gdp_energy.head()"
      ],
      "execution_count": 28,
      "outputs": [
        {
          "output_type": "execute_result",
          "data": {
            "text/html": [
              "<div>\n",
              "<style scoped>\n",
              "    .dataframe tbody tr th:only-of-type {\n",
              "        vertical-align: middle;\n",
              "    }\n",
              "\n",
              "    .dataframe tbody tr th {\n",
              "        vertical-align: top;\n",
              "    }\n",
              "\n",
              "    .dataframe thead th {\n",
              "        text-align: right;\n",
              "    }\n",
              "</style>\n",
              "<table border=\"1\" class=\"dataframe\">\n",
              "  <thead>\n",
              "    <tr style=\"text-align: right;\">\n",
              "      <th></th>\n",
              "      <th>Quarter</th>\n",
              "      <th>GDP US$ Billions</th>\n",
              "      <th>U.S. Aviation Gasoline - MGallons</th>\n",
              "      <th>Gasoline  - MGallons</th>\n",
              "      <th>Diesel  - MGallons</th>\n",
              "      <th>NatGAs by Quarter -MMCF</th>\n",
              "      <th>Electricity BWH</th>\n",
              "      <th>U.S. Aviation Gasoline - BTU</th>\n",
              "      <th>Gasoline By Quarter - BTU</th>\n",
              "      <th>Diesel By Quarter - BTU</th>\n",
              "      <th>NatGAs by Quarter - BTU</th>\n",
              "      <th>Electricity - BTU</th>\n",
              "      <th>Residential-Trillion BTU</th>\n",
              "      <th>Commercial-Trillion BTU</th>\n",
              "      <th>Industrial-Trillion BTU</th>\n",
              "      <th>Transportation-Trillion BTU</th>\n",
              "      <th>ElectricPowerStation-Trillion BTU</th>\n",
              "    </tr>\n",
              "  </thead>\n",
              "  <tbody>\n",
              "    <tr>\n",
              "      <th>0</th>\n",
              "      <td>Q1 2020</td>\n",
              "      <td>21561.139</td>\n",
              "      <td>34265.8</td>\n",
              "      <td>30684840.5</td>\n",
              "      <td>15588489.4</td>\n",
              "      <td>5603537</td>\n",
              "      <td>884810.483</td>\n",
              "      <td>4228.39972</td>\n",
              "      <td>3804920.222</td>\n",
              "      <td>2176153.120</td>\n",
              "      <td>5883713.85</td>\n",
              "      <td>3018973.368</td>\n",
              "      <td>5968.675</td>\n",
              "      <td>4657.362</td>\n",
              "      <td>6453.433</td>\n",
              "      <td>6472.220</td>\n",
              "      <td>8569.950</td>\n",
              "    </tr>\n",
              "    <tr>\n",
              "      <th>1</th>\n",
              "      <td>Q4 2019</td>\n",
              "      <td>21747.394</td>\n",
              "      <td>35111.1</td>\n",
              "      <td>33717750.3</td>\n",
              "      <td>15912627.0</td>\n",
              "      <td>4819769</td>\n",
              "      <td>889329.889</td>\n",
              "      <td>4332.70974</td>\n",
              "      <td>4181001.037</td>\n",
              "      <td>2221402.729</td>\n",
              "      <td>5060757.45</td>\n",
              "      <td>3034393.581</td>\n",
              "      <td>5378.989</td>\n",
              "      <td>4578.720</td>\n",
              "      <td>7041.891</td>\n",
              "      <td>7059.695</td>\n",
              "      <td>8716.166</td>\n",
              "    </tr>\n",
              "    <tr>\n",
              "      <th>2</th>\n",
              "      <td>Q3 2019</td>\n",
              "      <td>21540.325</td>\n",
              "      <td>45672.0</td>\n",
              "      <td>34753940.1</td>\n",
              "      <td>15358719.9</td>\n",
              "      <td>2729751</td>\n",
              "      <td>1071813.551</td>\n",
              "      <td>5635.92480</td>\n",
              "      <td>4309488.572</td>\n",
              "      <td>2144077.298</td>\n",
              "      <td>2866238.55</td>\n",
              "      <td>3657027.836</td>\n",
              "      <td>4943.206</td>\n",
              "      <td>4434.258</td>\n",
              "      <td>7305.627</td>\n",
              "      <td>7325.087</td>\n",
              "      <td>10525.260</td>\n",
              "    </tr>\n",
              "    <tr>\n",
              "      <th>3</th>\n",
              "      <td>Q2 2019</td>\n",
              "      <td>21329.877</td>\n",
              "      <td>45642.3</td>\n",
              "      <td>34079190.2</td>\n",
              "      <td>15151623.6</td>\n",
              "      <td>3237185</td>\n",
              "      <td>876905.151</td>\n",
              "      <td>5632.25982</td>\n",
              "      <td>4225819.585</td>\n",
              "      <td>2115166.655</td>\n",
              "      <td>3399044.25</td>\n",
              "      <td>2992000.375</td>\n",
              "      <td>4178.460</td>\n",
              "      <td>4144.286</td>\n",
              "      <td>7128.403</td>\n",
              "      <td>7146.820</td>\n",
              "      <td>8801.257</td>\n",
              "    </tr>\n",
              "    <tr>\n",
              "      <th>4</th>\n",
              "      <td>Q1 2019</td>\n",
              "      <td>21115.309</td>\n",
              "      <td>32690.1</td>\n",
              "      <td>31515816.7</td>\n",
              "      <td>15613161.6</td>\n",
              "      <td>6173048</td>\n",
              "      <td>911489.129</td>\n",
              "      <td>4033.95834</td>\n",
              "      <td>3907961.271</td>\n",
              "      <td>2179597.359</td>\n",
              "      <td>6481700.40</td>\n",
              "      <td>3110000.908</td>\n",
              "      <td>6709.648</td>\n",
              "      <td>5019.675</td>\n",
              "      <td>6730.366</td>\n",
              "      <td>6750.821</td>\n",
              "      <td>9038.771</td>\n",
              "    </tr>\n",
              "  </tbody>\n",
              "</table>\n",
              "</div>"
            ],
            "text/plain": [
              "   Quarter  ...  ElectricPowerStation-Trillion BTU\n",
              "0  Q1 2020  ...                           8569.950\n",
              "1  Q4 2019  ...                           8716.166\n",
              "2  Q3 2019  ...                          10525.260\n",
              "3  Q2 2019  ...                           8801.257\n",
              "4  Q1 2019  ...                           9038.771\n",
              "\n",
              "[5 rows x 17 columns]"
            ]
          },
          "metadata": {
            "tags": []
          },
          "execution_count": 28
        }
      ]
    },
    {
      "cell_type": "code",
      "metadata": {
        "id": "g08LgjVs7tqC",
        "colab_type": "code",
        "colab": {
          "base_uri": "https://localhost:8080/",
          "height": 34
        },
        "outputId": "cab7e6c4-553c-4712-ca98-57b05b3f6b62"
      },
      "source": [
        "gdp_energy.shape"
      ],
      "execution_count": 29,
      "outputs": [
        {
          "output_type": "execute_result",
          "data": {
            "text/plain": [
              "(77, 17)"
            ]
          },
          "metadata": {
            "tags": []
          },
          "execution_count": 29
        }
      ]
    },
    {
      "cell_type": "code",
      "metadata": {
        "id": "umXIvPxU8MMc",
        "colab_type": "code",
        "colab": {
          "base_uri": "https://localhost:8080/",
          "height": 218
        },
        "outputId": "def5efd4-f5be-4335-9679-4545776bed04"
      },
      "source": [
        "y = gdp_energy['GDP US$ Billions']\n",
        "y"
      ],
      "execution_count": 30,
      "outputs": [
        {
          "output_type": "execute_result",
          "data": {
            "text/plain": [
              "0     21561.139\n",
              "1     21747.394\n",
              "2     21540.325\n",
              "3     21329.877\n",
              "4     21115.309\n",
              "        ...    \n",
              "72    10788.952\n",
              "73    10660.294\n",
              "74    10596.294\n",
              "75    10597.822\n",
              "76    10472.879\n",
              "Name: GDP US$ Billions, Length: 77, dtype: float64"
            ]
          },
          "metadata": {
            "tags": []
          },
          "execution_count": 30
        }
      ]
    },
    {
      "cell_type": "code",
      "metadata": {
        "id": "b9PTEQ738lXB",
        "colab_type": "code",
        "colab": {
          "base_uri": "https://localhost:8080/",
          "height": 195
        },
        "outputId": "70f772b8-c872-4d15-b710-bafb59983513"
      },
      "source": [
        "X = gdp_energy[['U.S. Aviation Gasoline - MGallons', 'Gasoline  - MGallons','Diesel  - MGallons','NatGAs by Quarter -MMCF',' Electricity BWH ']]\n",
        "X.head()"
      ],
      "execution_count": 31,
      "outputs": [
        {
          "output_type": "execute_result",
          "data": {
            "text/html": [
              "<div>\n",
              "<style scoped>\n",
              "    .dataframe tbody tr th:only-of-type {\n",
              "        vertical-align: middle;\n",
              "    }\n",
              "\n",
              "    .dataframe tbody tr th {\n",
              "        vertical-align: top;\n",
              "    }\n",
              "\n",
              "    .dataframe thead th {\n",
              "        text-align: right;\n",
              "    }\n",
              "</style>\n",
              "<table border=\"1\" class=\"dataframe\">\n",
              "  <thead>\n",
              "    <tr style=\"text-align: right;\">\n",
              "      <th></th>\n",
              "      <th>U.S. Aviation Gasoline - MGallons</th>\n",
              "      <th>Gasoline  - MGallons</th>\n",
              "      <th>Diesel  - MGallons</th>\n",
              "      <th>NatGAs by Quarter -MMCF</th>\n",
              "      <th>Electricity BWH</th>\n",
              "    </tr>\n",
              "  </thead>\n",
              "  <tbody>\n",
              "    <tr>\n",
              "      <th>0</th>\n",
              "      <td>34265.8</td>\n",
              "      <td>30684840.5</td>\n",
              "      <td>15588489.4</td>\n",
              "      <td>5603537</td>\n",
              "      <td>884810.483</td>\n",
              "    </tr>\n",
              "    <tr>\n",
              "      <th>1</th>\n",
              "      <td>35111.1</td>\n",
              "      <td>33717750.3</td>\n",
              "      <td>15912627.0</td>\n",
              "      <td>4819769</td>\n",
              "      <td>889329.889</td>\n",
              "    </tr>\n",
              "    <tr>\n",
              "      <th>2</th>\n",
              "      <td>45672.0</td>\n",
              "      <td>34753940.1</td>\n",
              "      <td>15358719.9</td>\n",
              "      <td>2729751</td>\n",
              "      <td>1071813.551</td>\n",
              "    </tr>\n",
              "    <tr>\n",
              "      <th>3</th>\n",
              "      <td>45642.3</td>\n",
              "      <td>34079190.2</td>\n",
              "      <td>15151623.6</td>\n",
              "      <td>3237185</td>\n",
              "      <td>876905.151</td>\n",
              "    </tr>\n",
              "    <tr>\n",
              "      <th>4</th>\n",
              "      <td>32690.1</td>\n",
              "      <td>31515816.7</td>\n",
              "      <td>15613161.6</td>\n",
              "      <td>6173048</td>\n",
              "      <td>911489.129</td>\n",
              "    </tr>\n",
              "  </tbody>\n",
              "</table>\n",
              "</div>"
            ],
            "text/plain": [
              "   U.S. Aviation Gasoline - MGallons  ...   Electricity BWH \n",
              "0                            34265.8  ...         884810.483\n",
              "1                            35111.1  ...         889329.889\n",
              "2                            45672.0  ...        1071813.551\n",
              "3                            45642.3  ...         876905.151\n",
              "4                            32690.1  ...         911489.129\n",
              "\n",
              "[5 rows x 5 columns]"
            ]
          },
          "metadata": {
            "tags": []
          },
          "execution_count": 31
        }
      ]
    },
    {
      "cell_type": "code",
      "metadata": {
        "id": "s2GlGCy89JmZ",
        "colab_type": "code",
        "colab": {
          "base_uri": "https://localhost:8080/",
          "height": 195
        },
        "outputId": "4216a4c7-047a-4b95-83cc-2724d6443c59"
      },
      "source": [
        "X = sm.add_constant(X)\n",
        "X.head()"
      ],
      "execution_count": 32,
      "outputs": [
        {
          "output_type": "execute_result",
          "data": {
            "text/html": [
              "<div>\n",
              "<style scoped>\n",
              "    .dataframe tbody tr th:only-of-type {\n",
              "        vertical-align: middle;\n",
              "    }\n",
              "\n",
              "    .dataframe tbody tr th {\n",
              "        vertical-align: top;\n",
              "    }\n",
              "\n",
              "    .dataframe thead th {\n",
              "        text-align: right;\n",
              "    }\n",
              "</style>\n",
              "<table border=\"1\" class=\"dataframe\">\n",
              "  <thead>\n",
              "    <tr style=\"text-align: right;\">\n",
              "      <th></th>\n",
              "      <th>const</th>\n",
              "      <th>U.S. Aviation Gasoline - MGallons</th>\n",
              "      <th>Gasoline  - MGallons</th>\n",
              "      <th>Diesel  - MGallons</th>\n",
              "      <th>NatGAs by Quarter -MMCF</th>\n",
              "      <th>Electricity BWH</th>\n",
              "    </tr>\n",
              "  </thead>\n",
              "  <tbody>\n",
              "    <tr>\n",
              "      <th>0</th>\n",
              "      <td>1.0</td>\n",
              "      <td>34265.8</td>\n",
              "      <td>30684840.5</td>\n",
              "      <td>15588489.4</td>\n",
              "      <td>5603537</td>\n",
              "      <td>884810.483</td>\n",
              "    </tr>\n",
              "    <tr>\n",
              "      <th>1</th>\n",
              "      <td>1.0</td>\n",
              "      <td>35111.1</td>\n",
              "      <td>33717750.3</td>\n",
              "      <td>15912627.0</td>\n",
              "      <td>4819769</td>\n",
              "      <td>889329.889</td>\n",
              "    </tr>\n",
              "    <tr>\n",
              "      <th>2</th>\n",
              "      <td>1.0</td>\n",
              "      <td>45672.0</td>\n",
              "      <td>34753940.1</td>\n",
              "      <td>15358719.9</td>\n",
              "      <td>2729751</td>\n",
              "      <td>1071813.551</td>\n",
              "    </tr>\n",
              "    <tr>\n",
              "      <th>3</th>\n",
              "      <td>1.0</td>\n",
              "      <td>45642.3</td>\n",
              "      <td>34079190.2</td>\n",
              "      <td>15151623.6</td>\n",
              "      <td>3237185</td>\n",
              "      <td>876905.151</td>\n",
              "    </tr>\n",
              "    <tr>\n",
              "      <th>4</th>\n",
              "      <td>1.0</td>\n",
              "      <td>32690.1</td>\n",
              "      <td>31515816.7</td>\n",
              "      <td>15613161.6</td>\n",
              "      <td>6173048</td>\n",
              "      <td>911489.129</td>\n",
              "    </tr>\n",
              "  </tbody>\n",
              "</table>\n",
              "</div>"
            ],
            "text/plain": [
              "   const  ...   Electricity BWH \n",
              "0    1.0  ...         884810.483\n",
              "1    1.0  ...         889329.889\n",
              "2    1.0  ...        1071813.551\n",
              "3    1.0  ...         876905.151\n",
              "4    1.0  ...         911489.129\n",
              "\n",
              "[5 rows x 6 columns]"
            ]
          },
          "metadata": {
            "tags": []
          },
          "execution_count": 32
        }
      ]
    },
    {
      "cell_type": "code",
      "metadata": {
        "id": "xW4DNGPl9-hR",
        "colab_type": "code",
        "colab": {
          "base_uri": "https://localhost:8080/",
          "height": 538
        },
        "outputId": "99452902-cabe-4912-89e2-b53f720f5d15"
      },
      "source": [
        "model = sm.OLS(y, X)\n",
        "results = model.fit()\n",
        "print(results.summary())"
      ],
      "execution_count": 33,
      "outputs": [
        {
          "output_type": "stream",
          "text": [
            "                            OLS Regression Results                            \n",
            "==============================================================================\n",
            "Dep. Variable:       GDP US$ Billions   R-squared:                       0.673\n",
            "Model:                            OLS   Adj. R-squared:                  0.650\n",
            "Method:                 Least Squares   F-statistic:                     29.29\n",
            "Date:                Wed, 12 Aug 2020   Prob (F-statistic):           5.24e-16\n",
            "Time:                        06:04:45   Log-Likelihood:                -687.35\n",
            "No. Observations:                  77   AIC:                             1387.\n",
            "Df Residuals:                      71   BIC:                             1401.\n",
            "Df Model:                           5                                         \n",
            "Covariance Type:            nonrobust                                         \n",
            "=====================================================================================================\n",
            "                                        coef    std err          t      P>|t|      [0.025      0.975]\n",
            "-----------------------------------------------------------------------------------------------------\n",
            "const                              2.404e+04   9286.178      2.589      0.012    5525.487    4.26e+04\n",
            "U.S. Aviation Gasoline - MGallons    -0.1458      0.024     -6.011      0.000      -0.194      -0.097\n",
            "Gasoline  - MGallons                 -0.0009      0.000     -3.585      0.001      -0.001      -0.000\n",
            "Diesel  - MGallons                    0.0020      0.000      5.012      0.000       0.001       0.003\n",
            "NatGAs by Quarter -MMCF              -0.0017      0.000     -4.784      0.000      -0.002      -0.001\n",
            " Electricity BWH                      0.0076      0.003      2.190      0.032       0.001       0.015\n",
            "==============================================================================\n",
            "Omnibus:                        1.076   Durbin-Watson:                   0.604\n",
            "Prob(Omnibus):                  0.584   Jarque-Bera (JB):                1.000\n",
            "Skew:                          -0.088   Prob(JB):                        0.606\n",
            "Kurtosis:                       2.470   Cond. No.                     1.57e+09\n",
            "==============================================================================\n",
            "\n",
            "Warnings:\n",
            "[1] Standard Errors assume that the covariance matrix of the errors is correctly specified.\n",
            "[2] The condition number is large, 1.57e+09. This might indicate that there are\n",
            "strong multicollinearity or other numerical problems.\n"
          ],
          "name": "stdout"
        }
      ]
    },
    {
      "cell_type": "code",
      "metadata": {
        "id": "Bri-xeG5-nXQ",
        "colab_type": "code",
        "colab": {
          "base_uri": "https://localhost:8080/",
          "height": 195
        },
        "outputId": "899c6936-154b-4096-922e-71315f2713c3"
      },
      "source": [
        "X = gdp_energy[['U.S. Aviation Gasoline - BTU','Gasoline By Quarter - BTU','Diesel By Quarter - BTU', 'NatGAs by Quarter - BTU',' Electricity - BTU ']]\n",
        "X.head()"
      ],
      "execution_count": 34,
      "outputs": [
        {
          "output_type": "execute_result",
          "data": {
            "text/html": [
              "<div>\n",
              "<style scoped>\n",
              "    .dataframe tbody tr th:only-of-type {\n",
              "        vertical-align: middle;\n",
              "    }\n",
              "\n",
              "    .dataframe tbody tr th {\n",
              "        vertical-align: top;\n",
              "    }\n",
              "\n",
              "    .dataframe thead th {\n",
              "        text-align: right;\n",
              "    }\n",
              "</style>\n",
              "<table border=\"1\" class=\"dataframe\">\n",
              "  <thead>\n",
              "    <tr style=\"text-align: right;\">\n",
              "      <th></th>\n",
              "      <th>U.S. Aviation Gasoline - BTU</th>\n",
              "      <th>Gasoline By Quarter - BTU</th>\n",
              "      <th>Diesel By Quarter - BTU</th>\n",
              "      <th>NatGAs by Quarter - BTU</th>\n",
              "      <th>Electricity - BTU</th>\n",
              "    </tr>\n",
              "  </thead>\n",
              "  <tbody>\n",
              "    <tr>\n",
              "      <th>0</th>\n",
              "      <td>4228.39972</td>\n",
              "      <td>3804920.222</td>\n",
              "      <td>2176153.120</td>\n",
              "      <td>5883713.85</td>\n",
              "      <td>3018973.368</td>\n",
              "    </tr>\n",
              "    <tr>\n",
              "      <th>1</th>\n",
              "      <td>4332.70974</td>\n",
              "      <td>4181001.037</td>\n",
              "      <td>2221402.729</td>\n",
              "      <td>5060757.45</td>\n",
              "      <td>3034393.581</td>\n",
              "    </tr>\n",
              "    <tr>\n",
              "      <th>2</th>\n",
              "      <td>5635.92480</td>\n",
              "      <td>4309488.572</td>\n",
              "      <td>2144077.298</td>\n",
              "      <td>2866238.55</td>\n",
              "      <td>3657027.836</td>\n",
              "    </tr>\n",
              "    <tr>\n",
              "      <th>3</th>\n",
              "      <td>5632.25982</td>\n",
              "      <td>4225819.585</td>\n",
              "      <td>2115166.655</td>\n",
              "      <td>3399044.25</td>\n",
              "      <td>2992000.375</td>\n",
              "    </tr>\n",
              "    <tr>\n",
              "      <th>4</th>\n",
              "      <td>4033.95834</td>\n",
              "      <td>3907961.271</td>\n",
              "      <td>2179597.359</td>\n",
              "      <td>6481700.40</td>\n",
              "      <td>3110000.908</td>\n",
              "    </tr>\n",
              "  </tbody>\n",
              "</table>\n",
              "</div>"
            ],
            "text/plain": [
              "   U.S. Aviation Gasoline - BTU  ...   Electricity - BTU \n",
              "0                    4228.39972  ...          3018973.368\n",
              "1                    4332.70974  ...          3034393.581\n",
              "2                    5635.92480  ...          3657027.836\n",
              "3                    5632.25982  ...          2992000.375\n",
              "4                    4033.95834  ...          3110000.908\n",
              "\n",
              "[5 rows x 5 columns]"
            ]
          },
          "metadata": {
            "tags": []
          },
          "execution_count": 34
        }
      ]
    },
    {
      "cell_type": "code",
      "metadata": {
        "id": "kJL1hj5RIk_F",
        "colab_type": "code",
        "colab": {
          "base_uri": "https://localhost:8080/",
          "height": 195
        },
        "outputId": "f698afb7-ace7-4be8-bf95-9c2796209390"
      },
      "source": [
        "X = sm.add_constant(X)\n",
        "X.head()"
      ],
      "execution_count": 35,
      "outputs": [
        {
          "output_type": "execute_result",
          "data": {
            "text/html": [
              "<div>\n",
              "<style scoped>\n",
              "    .dataframe tbody tr th:only-of-type {\n",
              "        vertical-align: middle;\n",
              "    }\n",
              "\n",
              "    .dataframe tbody tr th {\n",
              "        vertical-align: top;\n",
              "    }\n",
              "\n",
              "    .dataframe thead th {\n",
              "        text-align: right;\n",
              "    }\n",
              "</style>\n",
              "<table border=\"1\" class=\"dataframe\">\n",
              "  <thead>\n",
              "    <tr style=\"text-align: right;\">\n",
              "      <th></th>\n",
              "      <th>const</th>\n",
              "      <th>U.S. Aviation Gasoline - BTU</th>\n",
              "      <th>Gasoline By Quarter - BTU</th>\n",
              "      <th>Diesel By Quarter - BTU</th>\n",
              "      <th>NatGAs by Quarter - BTU</th>\n",
              "      <th>Electricity - BTU</th>\n",
              "    </tr>\n",
              "  </thead>\n",
              "  <tbody>\n",
              "    <tr>\n",
              "      <th>0</th>\n",
              "      <td>1.0</td>\n",
              "      <td>4228.39972</td>\n",
              "      <td>3804920.222</td>\n",
              "      <td>2176153.120</td>\n",
              "      <td>5883713.85</td>\n",
              "      <td>3018973.368</td>\n",
              "    </tr>\n",
              "    <tr>\n",
              "      <th>1</th>\n",
              "      <td>1.0</td>\n",
              "      <td>4332.70974</td>\n",
              "      <td>4181001.037</td>\n",
              "      <td>2221402.729</td>\n",
              "      <td>5060757.45</td>\n",
              "      <td>3034393.581</td>\n",
              "    </tr>\n",
              "    <tr>\n",
              "      <th>2</th>\n",
              "      <td>1.0</td>\n",
              "      <td>5635.92480</td>\n",
              "      <td>4309488.572</td>\n",
              "      <td>2144077.298</td>\n",
              "      <td>2866238.55</td>\n",
              "      <td>3657027.836</td>\n",
              "    </tr>\n",
              "    <tr>\n",
              "      <th>3</th>\n",
              "      <td>1.0</td>\n",
              "      <td>5632.25982</td>\n",
              "      <td>4225819.585</td>\n",
              "      <td>2115166.655</td>\n",
              "      <td>3399044.25</td>\n",
              "      <td>2992000.375</td>\n",
              "    </tr>\n",
              "    <tr>\n",
              "      <th>4</th>\n",
              "      <td>1.0</td>\n",
              "      <td>4033.95834</td>\n",
              "      <td>3907961.271</td>\n",
              "      <td>2179597.359</td>\n",
              "      <td>6481700.40</td>\n",
              "      <td>3110000.908</td>\n",
              "    </tr>\n",
              "  </tbody>\n",
              "</table>\n",
              "</div>"
            ],
            "text/plain": [
              "   const  ...   Electricity - BTU \n",
              "0    1.0  ...          3018973.368\n",
              "1    1.0  ...          3034393.581\n",
              "2    1.0  ...          3657027.836\n",
              "3    1.0  ...          2992000.375\n",
              "4    1.0  ...          3110000.908\n",
              "\n",
              "[5 rows x 6 columns]"
            ]
          },
          "metadata": {
            "tags": []
          },
          "execution_count": 35
        }
      ]
    },
    {
      "cell_type": "code",
      "metadata": {
        "id": "xEWOpb7HJkCR",
        "colab_type": "code",
        "colab": {
          "base_uri": "https://localhost:8080/",
          "height": 538
        },
        "outputId": "23e37899-0285-4ccd-d3e5-57bea9cd2b08"
      },
      "source": [
        "model = sm.OLS(y, X)\n",
        "results = model.fit()\n",
        "print(results.summary())"
      ],
      "execution_count": 36,
      "outputs": [
        {
          "output_type": "stream",
          "text": [
            "                            OLS Regression Results                            \n",
            "==============================================================================\n",
            "Dep. Variable:       GDP US$ Billions   R-squared:                       0.673\n",
            "Model:                            OLS   Adj. R-squared:                  0.650\n",
            "Method:                 Least Squares   F-statistic:                     29.29\n",
            "Date:                Wed, 12 Aug 2020   Prob (F-statistic):           5.24e-16\n",
            "Time:                        06:04:45   Log-Likelihood:                -687.35\n",
            "No. Observations:                  77   AIC:                             1387.\n",
            "Df Residuals:                      71   BIC:                             1401.\n",
            "Df Model:                           5                                         \n",
            "Covariance Type:            nonrobust                                         \n",
            "================================================================================================\n",
            "                                   coef    std err          t      P>|t|      [0.025      0.975]\n",
            "------------------------------------------------------------------------------------------------\n",
            "const                         2.404e+04   9286.178      2.589      0.012    5525.487    4.26e+04\n",
            "U.S. Aviation Gasoline - BTU    -1.1814      0.197     -6.011      0.000      -1.573      -0.790\n",
            "Gasoline By Quarter - BTU       -0.0075      0.002     -3.585      0.001      -0.012      -0.003\n",
            "Diesel By Quarter - BTU          0.0146      0.003      5.012      0.000       0.009       0.020\n",
            "NatGAs by Quarter - BTU         -0.0016      0.000     -4.784      0.000      -0.002      -0.001\n",
            " Electricity - BTU               0.0022      0.001      2.190      0.032       0.000       0.004\n",
            "==============================================================================\n",
            "Omnibus:                        1.076   Durbin-Watson:                   0.604\n",
            "Prob(Omnibus):                  0.584   Jarque-Bera (JB):                1.000\n",
            "Skew:                          -0.088   Prob(JB):                        0.606\n",
            "Kurtosis:                       2.470   Cond. No.                     2.96e+08\n",
            "==============================================================================\n",
            "\n",
            "Warnings:\n",
            "[1] Standard Errors assume that the covariance matrix of the errors is correctly specified.\n",
            "[2] The condition number is large, 2.96e+08. This might indicate that there are\n",
            "strong multicollinearity or other numerical problems.\n"
          ],
          "name": "stdout"
        }
      ]
    },
    {
      "cell_type": "code",
      "metadata": {
        "id": "4U7mQTPVJpwZ",
        "colab_type": "code",
        "colab": {
          "base_uri": "https://localhost:8080/",
          "height": 195
        },
        "outputId": "f5957850-a972-4088-82f4-aee4fd515f28"
      },
      "source": [
        "X = gdp_energy[['Residential-Trillion BTU','Commercial-Trillion BTU','Industrial-Trillion BTU','Transportation-Trillion BTU','ElectricPowerStation-Trillion BTU']]\n",
        "X.head()"
      ],
      "execution_count": 38,
      "outputs": [
        {
          "output_type": "execute_result",
          "data": {
            "text/html": [
              "<div>\n",
              "<style scoped>\n",
              "    .dataframe tbody tr th:only-of-type {\n",
              "        vertical-align: middle;\n",
              "    }\n",
              "\n",
              "    .dataframe tbody tr th {\n",
              "        vertical-align: top;\n",
              "    }\n",
              "\n",
              "    .dataframe thead th {\n",
              "        text-align: right;\n",
              "    }\n",
              "</style>\n",
              "<table border=\"1\" class=\"dataframe\">\n",
              "  <thead>\n",
              "    <tr style=\"text-align: right;\">\n",
              "      <th></th>\n",
              "      <th>Residential-Trillion BTU</th>\n",
              "      <th>Commercial-Trillion BTU</th>\n",
              "      <th>Industrial-Trillion BTU</th>\n",
              "      <th>Transportation-Trillion BTU</th>\n",
              "      <th>ElectricPowerStation-Trillion BTU</th>\n",
              "    </tr>\n",
              "  </thead>\n",
              "  <tbody>\n",
              "    <tr>\n",
              "      <th>0</th>\n",
              "      <td>5968.675</td>\n",
              "      <td>4657.362</td>\n",
              "      <td>6453.433</td>\n",
              "      <td>6472.220</td>\n",
              "      <td>8569.950</td>\n",
              "    </tr>\n",
              "    <tr>\n",
              "      <th>1</th>\n",
              "      <td>5378.989</td>\n",
              "      <td>4578.720</td>\n",
              "      <td>7041.891</td>\n",
              "      <td>7059.695</td>\n",
              "      <td>8716.166</td>\n",
              "    </tr>\n",
              "    <tr>\n",
              "      <th>2</th>\n",
              "      <td>4943.206</td>\n",
              "      <td>4434.258</td>\n",
              "      <td>7305.627</td>\n",
              "      <td>7325.087</td>\n",
              "      <td>10525.260</td>\n",
              "    </tr>\n",
              "    <tr>\n",
              "      <th>3</th>\n",
              "      <td>4178.460</td>\n",
              "      <td>4144.286</td>\n",
              "      <td>7128.403</td>\n",
              "      <td>7146.820</td>\n",
              "      <td>8801.257</td>\n",
              "    </tr>\n",
              "    <tr>\n",
              "      <th>4</th>\n",
              "      <td>6709.648</td>\n",
              "      <td>5019.675</td>\n",
              "      <td>6730.366</td>\n",
              "      <td>6750.821</td>\n",
              "      <td>9038.771</td>\n",
              "    </tr>\n",
              "  </tbody>\n",
              "</table>\n",
              "</div>"
            ],
            "text/plain": [
              "   Residential-Trillion BTU  ...  ElectricPowerStation-Trillion BTU\n",
              "0                  5968.675  ...                           8569.950\n",
              "1                  5378.989  ...                           8716.166\n",
              "2                  4943.206  ...                          10525.260\n",
              "3                  4178.460  ...                           8801.257\n",
              "4                  6709.648  ...                           9038.771\n",
              "\n",
              "[5 rows x 5 columns]"
            ]
          },
          "metadata": {
            "tags": []
          },
          "execution_count": 38
        }
      ]
    },
    {
      "cell_type": "code",
      "metadata": {
        "id": "jjeSaP7NO4pJ",
        "colab_type": "code",
        "colab": {
          "base_uri": "https://localhost:8080/",
          "height": 195
        },
        "outputId": "2b19ca99-23a3-4149-ca4c-f9d1eea121a5"
      },
      "source": [
        "X = sm.add_constant(X)\n",
        "X.head()"
      ],
      "execution_count": 39,
      "outputs": [
        {
          "output_type": "execute_result",
          "data": {
            "text/html": [
              "<div>\n",
              "<style scoped>\n",
              "    .dataframe tbody tr th:only-of-type {\n",
              "        vertical-align: middle;\n",
              "    }\n",
              "\n",
              "    .dataframe tbody tr th {\n",
              "        vertical-align: top;\n",
              "    }\n",
              "\n",
              "    .dataframe thead th {\n",
              "        text-align: right;\n",
              "    }\n",
              "</style>\n",
              "<table border=\"1\" class=\"dataframe\">\n",
              "  <thead>\n",
              "    <tr style=\"text-align: right;\">\n",
              "      <th></th>\n",
              "      <th>const</th>\n",
              "      <th>Residential-Trillion BTU</th>\n",
              "      <th>Commercial-Trillion BTU</th>\n",
              "      <th>Industrial-Trillion BTU</th>\n",
              "      <th>Transportation-Trillion BTU</th>\n",
              "      <th>ElectricPowerStation-Trillion BTU</th>\n",
              "    </tr>\n",
              "  </thead>\n",
              "  <tbody>\n",
              "    <tr>\n",
              "      <th>0</th>\n",
              "      <td>1.0</td>\n",
              "      <td>5968.675</td>\n",
              "      <td>4657.362</td>\n",
              "      <td>6453.433</td>\n",
              "      <td>6472.220</td>\n",
              "      <td>8569.950</td>\n",
              "    </tr>\n",
              "    <tr>\n",
              "      <th>1</th>\n",
              "      <td>1.0</td>\n",
              "      <td>5378.989</td>\n",
              "      <td>4578.720</td>\n",
              "      <td>7041.891</td>\n",
              "      <td>7059.695</td>\n",
              "      <td>8716.166</td>\n",
              "    </tr>\n",
              "    <tr>\n",
              "      <th>2</th>\n",
              "      <td>1.0</td>\n",
              "      <td>4943.206</td>\n",
              "      <td>4434.258</td>\n",
              "      <td>7305.627</td>\n",
              "      <td>7325.087</td>\n",
              "      <td>10525.260</td>\n",
              "    </tr>\n",
              "    <tr>\n",
              "      <th>3</th>\n",
              "      <td>1.0</td>\n",
              "      <td>4178.460</td>\n",
              "      <td>4144.286</td>\n",
              "      <td>7128.403</td>\n",
              "      <td>7146.820</td>\n",
              "      <td>8801.257</td>\n",
              "    </tr>\n",
              "    <tr>\n",
              "      <th>4</th>\n",
              "      <td>1.0</td>\n",
              "      <td>6709.648</td>\n",
              "      <td>5019.675</td>\n",
              "      <td>6730.366</td>\n",
              "      <td>6750.821</td>\n",
              "      <td>9038.771</td>\n",
              "    </tr>\n",
              "  </tbody>\n",
              "</table>\n",
              "</div>"
            ],
            "text/plain": [
              "   const  ...  ElectricPowerStation-Trillion BTU\n",
              "0    1.0  ...                           8569.950\n",
              "1    1.0  ...                           8716.166\n",
              "2    1.0  ...                          10525.260\n",
              "3    1.0  ...                           8801.257\n",
              "4    1.0  ...                           9038.771\n",
              "\n",
              "[5 rows x 6 columns]"
            ]
          },
          "metadata": {
            "tags": []
          },
          "execution_count": 39
        }
      ]
    },
    {
      "cell_type": "code",
      "metadata": {
        "id": "cHVujfwIR5-e",
        "colab_type": "code",
        "colab": {
          "base_uri": "https://localhost:8080/",
          "height": 538
        },
        "outputId": "bf8ac84c-542d-42df-9deb-bbb1a57a2ecd"
      },
      "source": [
        "model = sm.OLS(y, X)\n",
        "results = model.fit()\n",
        "print(results.summary())"
      ],
      "execution_count": 40,
      "outputs": [
        {
          "output_type": "stream",
          "text": [
            "                            OLS Regression Results                            \n",
            "==============================================================================\n",
            "Dep. Variable:       GDP US$ Billions   R-squared:                       0.579\n",
            "Model:                            OLS   Adj. R-squared:                  0.549\n",
            "Method:                 Least Squares   F-statistic:                     19.50\n",
            "Date:                Wed, 12 Aug 2020   Prob (F-statistic):           3.58e-12\n",
            "Time:                        06:07:25   Log-Likelihood:                -697.16\n",
            "No. Observations:                  77   AIC:                             1406.\n",
            "Df Residuals:                      71   BIC:                             1420.\n",
            "Df Model:                           5                                         \n",
            "Covariance Type:            nonrobust                                         \n",
            "=====================================================================================================\n",
            "                                        coef    std err          t      P>|t|      [0.025      0.975]\n",
            "-----------------------------------------------------------------------------------------------------\n",
            "const                             -5.407e+04   9733.363     -5.555      0.000   -7.35e+04   -3.47e+04\n",
            "Residential-Trillion BTU             -7.6096      1.001     -7.601      0.000      -9.606      -5.613\n",
            "Commercial-Trillion BTU              26.7339      3.223      8.296      0.000      20.308      33.159\n",
            "Industrial-Trillion BTU              11.6579    180.054      0.065      0.949    -347.360     370.676\n",
            "Transportation-Trillion BTU         -11.1638    179.888     -0.062      0.951    -369.849     347.522\n",
            "ElectricPowerStation-Trillion BTU    -1.3659      0.389     -3.510      0.001      -2.142      -0.590\n",
            "==============================================================================\n",
            "Omnibus:                        4.430   Durbin-Watson:                   0.916\n",
            "Prob(Omnibus):                  0.109   Jarque-Bera (JB):                4.059\n",
            "Skew:                           0.562   Prob(JB):                        0.131\n",
            "Kurtosis:                       3.033   Cond. No.                     6.06e+05\n",
            "==============================================================================\n",
            "\n",
            "Warnings:\n",
            "[1] Standard Errors assume that the covariance matrix of the errors is correctly specified.\n",
            "[2] The condition number is large, 6.06e+05. This might indicate that there are\n",
            "strong multicollinearity or other numerical problems.\n"
          ],
          "name": "stdout"
        }
      ]
    },
    {
      "cell_type": "code",
      "metadata": {
        "id": "QmtWrBohR8v7",
        "colab_type": "code",
        "colab": {}
      },
      "source": [
        ""
      ],
      "execution_count": null,
      "outputs": []
    }
  ]
}